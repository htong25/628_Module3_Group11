{
 "cells": [
  {
   "cell_type": "code",
   "execution_count": 32,
   "metadata": {},
   "outputs": [],
   "source": [
    "import numpy"
   ]
  },
  {
   "cell_type": "code",
   "execution_count": 33,
   "metadata": {},
   "outputs": [],
   "source": [
    "import pandas as pd"
   ]
  },
  {
   "cell_type": "code",
   "execution_count": 34,
   "metadata": {},
   "outputs": [],
   "source": [
    "import os"
   ]
  },
  {
   "cell_type": "code",
   "execution_count": 35,
   "metadata": {},
   "outputs": [],
   "source": [
    "os.chdir('C:\\\\Users\\\\thton\\\\python所有练习\\\\STAT_628_Module_3')"
   ]
  },
  {
   "cell_type": "code",
   "execution_count": 36,
   "metadata": {},
   "outputs": [
    {
     "data": {
      "text/html": [
       "<div>\n",
       "<style scoped>\n",
       "    .dataframe tbody tr th:only-of-type {\n",
       "        vertical-align: middle;\n",
       "    }\n",
       "\n",
       "    .dataframe tbody tr th {\n",
       "        vertical-align: top;\n",
       "    }\n",
       "\n",
       "    .dataframe thead th {\n",
       "        text-align: right;\n",
       "    }\n",
       "</style>\n",
       "<table border=\"1\" class=\"dataframe\">\n",
       "  <thead>\n",
       "    <tr style=\"text-align: right;\">\n",
       "      <th></th>\n",
       "      <th>stars_x</th>\n",
       "      <th>useful</th>\n",
       "      <th>text</th>\n",
       "      <th>name</th>\n",
       "      <th>address</th>\n",
       "      <th>city</th>\n",
       "      <th>state</th>\n",
       "      <th>postal_code</th>\n",
       "      <th>stars_y</th>\n",
       "      <th>attributes</th>\n",
       "      <th>categories</th>\n",
       "    </tr>\n",
       "  </thead>\n",
       "  <tbody>\n",
       "    <tr>\n",
       "      <th>0</th>\n",
       "      <td>1</td>\n",
       "      <td>0</td>\n",
       "      <td>Usually the first thing I say when I walk into...</td>\n",
       "      <td>Mondays</td>\n",
       "      <td>523 State St</td>\n",
       "      <td>Madison</td>\n",
       "      <td>WI</td>\n",
       "      <td>53703.0</td>\n",
       "      <td>2.5</td>\n",
       "      <td>{'BusinessAcceptsCreditCards': 'True', 'Restau...</td>\n",
       "      <td>Bars, Dive Bars, Nightlife</td>\n",
       "    </tr>\n",
       "    <tr>\n",
       "      <th>1</th>\n",
       "      <td>5</td>\n",
       "      <td>1</td>\n",
       "      <td>My sister and I have visited Gib's twice and b...</td>\n",
       "      <td>Gib's Bar</td>\n",
       "      <td>1380 Williamson St</td>\n",
       "      <td>Madison</td>\n",
       "      <td>WI</td>\n",
       "      <td>53703.0</td>\n",
       "      <td>4.0</td>\n",
       "      <td>{'Alcohol': \"'full_bar'\", 'GoodForDancing': 'F...</td>\n",
       "      <td>Bars, Cocktail Bars, Nightlife</td>\n",
       "    </tr>\n",
       "    <tr>\n",
       "      <th>2</th>\n",
       "      <td>5</td>\n",
       "      <td>3</td>\n",
       "      <td>The food and vibe here is outstanding. It's de...</td>\n",
       "      <td>Lucille</td>\n",
       "      <td>101 King St</td>\n",
       "      <td>Madison</td>\n",
       "      <td>WI</td>\n",
       "      <td>53703.0</td>\n",
       "      <td>4.0</td>\n",
       "      <td>{'RestaurantsDelivery': 'True', 'Caters': 'Fal...</td>\n",
       "      <td>Nightlife, Bars, Burgers, American (New), Pizz...</td>\n",
       "    </tr>\n",
       "    <tr>\n",
       "      <th>3</th>\n",
       "      <td>4</td>\n",
       "      <td>1</td>\n",
       "      <td>Simplicity at its best. G&amp;B offers a nice touc...</td>\n",
       "      <td>Gates &amp; Brovi</td>\n",
       "      <td>3502 Monroe St</td>\n",
       "      <td>Madison</td>\n",
       "      <td>WI</td>\n",
       "      <td>53711.0</td>\n",
       "      <td>3.5</td>\n",
       "      <td>{'Caters': 'True', 'RestaurantsPriceRange2': '...</td>\n",
       "      <td>Bars, Sports Bars, Nightlife, Sandwiches, Rest...</td>\n",
       "    </tr>\n",
       "    <tr>\n",
       "      <th>4</th>\n",
       "      <td>5</td>\n",
       "      <td>0</td>\n",
       "      <td>This is my favorite happy hour place in all of...</td>\n",
       "      <td>Tempest Oyster Bar</td>\n",
       "      <td>120 E Wilson St</td>\n",
       "      <td>Madison</td>\n",
       "      <td>WI</td>\n",
       "      <td>53703.0</td>\n",
       "      <td>4.0</td>\n",
       "      <td>{'RestaurantsTakeOut': 'False', 'WiFi': \"u'no'...</td>\n",
       "      <td>Steakhouses, Restaurants, Bars, Seafood, Night...</td>\n",
       "    </tr>\n",
       "  </tbody>\n",
       "</table>\n",
       "</div>"
      ],
      "text/plain": [
       "   stars_x  useful                                               text  \\\n",
       "0        1       0  Usually the first thing I say when I walk into...   \n",
       "1        5       1  My sister and I have visited Gib's twice and b...   \n",
       "2        5       3  The food and vibe here is outstanding. It's de...   \n",
       "3        4       1  Simplicity at its best. G&B offers a nice touc...   \n",
       "4        5       0  This is my favorite happy hour place in all of...   \n",
       "\n",
       "                 name             address     city state  postal_code  \\\n",
       "0             Mondays        523 State St  Madison    WI      53703.0   \n",
       "1           Gib's Bar  1380 Williamson St  Madison    WI      53703.0   \n",
       "2             Lucille         101 King St  Madison    WI      53703.0   \n",
       "3       Gates & Brovi      3502 Monroe St  Madison    WI      53711.0   \n",
       "4  Tempest Oyster Bar     120 E Wilson St  Madison    WI      53703.0   \n",
       "\n",
       "   stars_y                                         attributes  \\\n",
       "0      2.5  {'BusinessAcceptsCreditCards': 'True', 'Restau...   \n",
       "1      4.0  {'Alcohol': \"'full_bar'\", 'GoodForDancing': 'F...   \n",
       "2      4.0  {'RestaurantsDelivery': 'True', 'Caters': 'Fal...   \n",
       "3      3.5  {'Caters': 'True', 'RestaurantsPriceRange2': '...   \n",
       "4      4.0  {'RestaurantsTakeOut': 'False', 'WiFi': \"u'no'...   \n",
       "\n",
       "                                          categories  \n",
       "0                         Bars, Dive Bars, Nightlife  \n",
       "1                     Bars, Cocktail Bars, Nightlife  \n",
       "2  Nightlife, Bars, Burgers, American (New), Pizz...  \n",
       "3  Bars, Sports Bars, Nightlife, Sandwiches, Rest...  \n",
       "4  Steakhouses, Restaurants, Bars, Seafood, Night...  "
      ]
     },
     "execution_count": 36,
     "metadata": {},
     "output_type": "execute_result"
    }
   ],
   "source": [
    "bar = pd.read_csv('bar.csv')\n",
    "bar.head()"
   ]
  },
  {
   "cell_type": "code",
   "execution_count": 37,
   "metadata": {},
   "outputs": [
    {
     "data": {
      "text/plain": [
       "(29825, 11)"
      ]
     },
     "execution_count": 37,
     "metadata": {},
     "output_type": "execute_result"
    }
   ],
   "source": [
    "bar.shape"
   ]
  },
  {
   "cell_type": "code",
   "execution_count": 38,
   "metadata": {},
   "outputs": [],
   "source": [
    "import nltk"
   ]
  },
  {
   "cell_type": "code",
   "execution_count": 39,
   "metadata": {},
   "outputs": [],
   "source": [
    "text = list(bar.text)"
   ]
  },
  {
   "cell_type": "code",
   "execution_count": 40,
   "metadata": {},
   "outputs": [
    {
     "data": {
      "text/plain": [
       "29825"
      ]
     },
     "execution_count": 40,
     "metadata": {},
     "output_type": "execute_result"
    }
   ],
   "source": [
    "len(text)"
   ]
  },
  {
   "cell_type": "code",
   "execution_count": 41,
   "metadata": {},
   "outputs": [
    {
     "data": {
      "text/plain": [
       "'Usually the first thing I say when I walk into Monday\\'s is \"God damn it!  Why am I at Monday\\'s?\"  I hate this place.  Way too crowded.  Shitty music.  No atmosphere.  Stay the hell away.'"
      ]
     },
     "execution_count": 41,
     "metadata": {},
     "output_type": "execute_result"
    }
   ],
   "source": [
    "text[0]"
   ]
  },
  {
   "cell_type": "code",
   "execution_count": 42,
   "metadata": {},
   "outputs": [],
   "source": [
    "text = [a.lower() for a in text]"
   ]
  },
  {
   "cell_type": "code",
   "execution_count": 43,
   "metadata": {},
   "outputs": [
    {
     "data": {
      "text/plain": [
       "'usually the first thing i say when i walk into monday\\'s is \"god damn it!  why am i at monday\\'s?\"  i hate this place.  way too crowded.  shitty music.  no atmosphere.  stay the hell away.'"
      ]
     },
     "execution_count": 43,
     "metadata": {},
     "output_type": "execute_result"
    }
   ],
   "source": [
    "text[0]"
   ]
  },
  {
   "cell_type": "code",
   "execution_count": 44,
   "metadata": {},
   "outputs": [
    {
     "name": "stdout",
     "output_type": "stream",
     "text": [
      "!\"#$%&'()*+,-./:;<=>?@[\\]^_`{|}~\n"
     ]
    }
   ],
   "source": [
    "import string\n",
    "print(string.punctuation)"
   ]
  },
  {
   "cell_type": "code",
   "execution_count": 45,
   "metadata": {},
   "outputs": [],
   "source": [
    "text = [\"\".join([char for char in a if char not in string.punctuation]) for a in text]"
   ]
  },
  {
   "cell_type": "code",
   "execution_count": 46,
   "metadata": {},
   "outputs": [
    {
     "data": {
      "text/plain": [
       "'usually the first thing i say when i walk into mondays is god damn it  why am i at mondays  i hate this place  way too crowded  shitty music  no atmosphere  stay the hell away'"
      ]
     },
     "execution_count": 46,
     "metadata": {},
     "output_type": "execute_result"
    }
   ],
   "source": [
    "text[0]"
   ]
  },
  {
   "cell_type": "code",
   "execution_count": 49,
   "metadata": {},
   "outputs": [
    {
     "name": "stderr",
     "output_type": "stream",
     "text": [
      "[nltk_data] Downloading package punkt to\n",
      "[nltk_data]     C:\\Users\\thton\\AppData\\Roaming\\nltk_data...\n",
      "[nltk_data]   Package punkt is already up-to-date!\n"
     ]
    },
    {
     "data": {
      "text/plain": [
       "True"
      ]
     },
     "execution_count": 49,
     "metadata": {},
     "output_type": "execute_result"
    }
   ],
   "source": [
    "nltk.download('punkt')"
   ]
  },
  {
   "cell_type": "code",
   "execution_count": 47,
   "metadata": {},
   "outputs": [],
   "source": [
    "words = [ nltk.word_tokenize(a) for a in text ]"
   ]
  },
  {
   "cell_type": "code",
   "execution_count": 48,
   "metadata": {},
   "outputs": [
    {
     "data": {
      "text/plain": [
       "['usually',\n",
       " 'the',\n",
       " 'first',\n",
       " 'thing',\n",
       " 'i',\n",
       " 'say',\n",
       " 'when',\n",
       " 'i',\n",
       " 'walk',\n",
       " 'into',\n",
       " 'mondays',\n",
       " 'is',\n",
       " 'god',\n",
       " 'damn',\n",
       " 'it',\n",
       " 'why',\n",
       " 'am',\n",
       " 'i',\n",
       " 'at',\n",
       " 'mondays',\n",
       " 'i',\n",
       " 'hate',\n",
       " 'this',\n",
       " 'place',\n",
       " 'way',\n",
       " 'too',\n",
       " 'crowded',\n",
       " 'shitty',\n",
       " 'music',\n",
       " 'no',\n",
       " 'atmosphere',\n",
       " 'stay',\n",
       " 'the',\n",
       " 'hell',\n",
       " 'away']"
      ]
     },
     "execution_count": 48,
     "metadata": {},
     "output_type": "execute_result"
    }
   ],
   "source": [
    "words[0]"
   ]
  },
  {
   "cell_type": "code",
   "execution_count": 50,
   "metadata": {},
   "outputs": [
    {
     "name": "stderr",
     "output_type": "stream",
     "text": [
      "[nltk_data] Downloading package stopwords to\n",
      "[nltk_data]     C:\\Users\\thton\\AppData\\Roaming\\nltk_data...\n",
      "[nltk_data]   Package stopwords is already up-to-date!\n"
     ]
    },
    {
     "data": {
      "text/plain": [
       "True"
      ]
     },
     "execution_count": 50,
     "metadata": {},
     "output_type": "execute_result"
    }
   ],
   "source": [
    "nltk.download('stopwords')"
   ]
  },
  {
   "cell_type": "code",
   "execution_count": 51,
   "metadata": {},
   "outputs": [
    {
     "name": "stdout",
     "output_type": "stream",
     "text": [
      "['i', 'me', 'my', 'myself', 'we', 'our', 'ours', 'ourselves', 'you', \"you're\", \"you've\", \"you'll\", \"you'd\", 'your', 'yours', 'yourself', 'yourselves', 'he', 'him', 'his', 'himself', 'she', \"she's\", 'her', 'hers', 'herself', 'it', \"it's\", 'its', 'itself', 'they', 'them', 'their', 'theirs', 'themselves', 'what', 'which', 'who', 'whom', 'this', 'that', \"that'll\", 'these', 'those', 'am', 'is', 'are', 'was', 'were', 'be', 'been', 'being', 'have', 'has', 'had', 'having', 'do', 'does', 'did', 'doing', 'a', 'an', 'the', 'and', 'but', 'if', 'or', 'because', 'as', 'until', 'while', 'of', 'at', 'by', 'for', 'with', 'about', 'against', 'between', 'into', 'through', 'during', 'before', 'after', 'above', 'below', 'to', 'from', 'up', 'down', 'in', 'out', 'on', 'off', 'over', 'under', 'again', 'further', 'then', 'once', 'here', 'there', 'when', 'where', 'why', 'how', 'all', 'any', 'both', 'each', 'few', 'more', 'most', 'other', 'some', 'such', 'no', 'nor', 'not', 'only', 'own', 'same', 'so', 'than', 'too', 'very', 's', 't', 'can', 'will', 'just', 'don', \"don't\", 'should', \"should've\", 'now', 'd', 'll', 'm', 'o', 're', 've', 'y', 'ain', 'aren', \"aren't\", 'couldn', \"couldn't\", 'didn', \"didn't\", 'doesn', \"doesn't\", 'hadn', \"hadn't\", 'hasn', \"hasn't\", 'haven', \"haven't\", 'isn', \"isn't\", 'ma', 'mightn', \"mightn't\", 'mustn', \"mustn't\", 'needn', \"needn't\", 'shan', \"shan't\", 'shouldn', \"shouldn't\", 'wasn', \"wasn't\", 'weren', \"weren't\", 'won', \"won't\", 'wouldn', \"wouldn't\"]\n"
     ]
    }
   ],
   "source": [
    "from nltk.corpus import stopwords\n",
    "stop_words = stopwords.words('english')\n",
    "print(stop_words)"
   ]
  },
  {
   "cell_type": "code",
   "execution_count": 52,
   "metadata": {},
   "outputs": [],
   "source": [
    "filtered_words = [[word for word in a if word not in stop_words] for a in words]"
   ]
  },
  {
   "cell_type": "code",
   "execution_count": 54,
   "metadata": {},
   "outputs": [
    {
     "data": {
      "text/plain": [
       "['usually',\n",
       " 'first',\n",
       " 'thing',\n",
       " 'say',\n",
       " 'walk',\n",
       " 'mondays',\n",
       " 'god',\n",
       " 'damn',\n",
       " 'mondays',\n",
       " 'hate']"
      ]
     },
     "execution_count": 54,
     "metadata": {},
     "output_type": "execute_result"
    }
   ],
   "source": [
    "filtered_words[0][:10]"
   ]
  },
  {
   "cell_type": "code",
   "execution_count": 55,
   "metadata": {},
   "outputs": [
    {
     "name": "stderr",
     "output_type": "stream",
     "text": [
      "[nltk_data] Downloading package wordnet to\n",
      "[nltk_data]     C:\\Users\\thton\\AppData\\Roaming\\nltk_data...\n",
      "[nltk_data]   Package wordnet is already up-to-date!\n"
     ]
    },
    {
     "data": {
      "text/plain": [
       "True"
      ]
     },
     "execution_count": 55,
     "metadata": {},
     "output_type": "execute_result"
    }
   ],
   "source": [
    "nltk.download('wordnet')"
   ]
  },
  {
   "cell_type": "code",
   "execution_count": 56,
   "metadata": {},
   "outputs": [],
   "source": [
    "from nltk.stem.wordnet import WordNetLemmatizer\n",
    "lmtzr = WordNetLemmatizer()"
   ]
  },
  {
   "cell_type": "code",
   "execution_count": 63,
   "metadata": {},
   "outputs": [
    {
     "data": {
      "text/plain": [
       "'kiss'"
      ]
     },
     "execution_count": 63,
     "metadata": {},
     "output_type": "execute_result"
    }
   ],
   "source": [
    "lmtzr.lemmatize('kisses')"
   ]
  },
  {
   "cell_type": "code",
   "execution_count": 64,
   "metadata": {},
   "outputs": [],
   "source": [
    "lemmatized_words =[[lmtzr.lemmatize(x) for x in a] for a in filtered_words]"
   ]
  },
  {
   "cell_type": "code",
   "execution_count": 65,
   "metadata": {},
   "outputs": [
    {
     "data": {
      "text/plain": [
       "['usually',\n",
       " 'first',\n",
       " 'thing',\n",
       " 'say',\n",
       " 'walk',\n",
       " 'monday',\n",
       " 'god',\n",
       " 'damn',\n",
       " 'monday',\n",
       " 'hate',\n",
       " 'place',\n",
       " 'way',\n",
       " 'crowded',\n",
       " 'shitty',\n",
       " 'music',\n",
       " 'atmosphere',\n",
       " 'stay',\n",
       " 'hell',\n",
       " 'away']"
      ]
     },
     "execution_count": 65,
     "metadata": {},
     "output_type": "execute_result"
    }
   ],
   "source": [
    "lemmatized_words[0]"
   ]
  },
  {
   "cell_type": "code",
   "execution_count": 66,
   "metadata": {},
   "outputs": [],
   "source": [
    "import itertools\n",
    "word_list = list(itertools.chain.from_iterable(lemmatized_words))"
   ]
  },
  {
   "cell_type": "code",
   "execution_count": 67,
   "metadata": {},
   "outputs": [],
   "source": [
    "from collections import Counter\n",
    "freq = pd.DataFrame.from_dict(Counter(word_list),orient='index')"
   ]
  },
  {
   "cell_type": "code",
   "execution_count": 68,
   "metadata": {},
   "outputs": [
    {
     "data": {
      "text/html": [
       "<div>\n",
       "<style scoped>\n",
       "    .dataframe tbody tr th:only-of-type {\n",
       "        vertical-align: middle;\n",
       "    }\n",
       "\n",
       "    .dataframe tbody tr th {\n",
       "        vertical-align: top;\n",
       "    }\n",
       "\n",
       "    .dataframe thead th {\n",
       "        text-align: right;\n",
       "    }\n",
       "</style>\n",
       "<table border=\"1\" class=\"dataframe\">\n",
       "  <thead>\n",
       "    <tr style=\"text-align: right;\">\n",
       "      <th></th>\n",
       "      <th>0</th>\n",
       "    </tr>\n",
       "  </thead>\n",
       "  <tbody>\n",
       "    <tr>\n",
       "      <th>food</th>\n",
       "      <td>20693</td>\n",
       "    </tr>\n",
       "    <tr>\n",
       "      <th>good</th>\n",
       "      <td>20172</td>\n",
       "    </tr>\n",
       "    <tr>\n",
       "      <th>place</th>\n",
       "      <td>18699</td>\n",
       "    </tr>\n",
       "    <tr>\n",
       "      <th>great</th>\n",
       "      <td>17831</td>\n",
       "    </tr>\n",
       "    <tr>\n",
       "      <th>time</th>\n",
       "      <td>12222</td>\n",
       "    </tr>\n",
       "    <tr>\n",
       "      <th>...</th>\n",
       "      <td>...</td>\n",
       "    </tr>\n",
       "    <tr>\n",
       "      <th>slanging</th>\n",
       "      <td>1</td>\n",
       "    </tr>\n",
       "    <tr>\n",
       "      <th>chillax</th>\n",
       "      <td>1</td>\n",
       "    </tr>\n",
       "    <tr>\n",
       "      <th>rudeinsinuated</th>\n",
       "      <td>1</td>\n",
       "    </tr>\n",
       "    <tr>\n",
       "      <th>supersecret</th>\n",
       "      <td>1</td>\n",
       "    </tr>\n",
       "    <tr>\n",
       "      <th>813</th>\n",
       "      <td>1</td>\n",
       "    </tr>\n",
       "  </tbody>\n",
       "</table>\n",
       "<p>43940 rows × 1 columns</p>\n",
       "</div>"
      ],
      "text/plain": [
       "                    0\n",
       "food            20693\n",
       "good            20172\n",
       "place           18699\n",
       "great           17831\n",
       "time            12222\n",
       "...               ...\n",
       "slanging            1\n",
       "chillax             1\n",
       "rudeinsinuated      1\n",
       "supersecret         1\n",
       "813                 1\n",
       "\n",
       "[43940 rows x 1 columns]"
      ]
     },
     "execution_count": 68,
     "metadata": {},
     "output_type": "execute_result"
    }
   ],
   "source": [
    "freq.sort_values(by=0, ascending=False)"
   ]
  },
  {
   "cell_type": "code",
   "execution_count": 69,
   "metadata": {},
   "outputs": [],
   "source": [
    "dictionary = list(freq[freq[0] > 15].index)"
   ]
  },
  {
   "cell_type": "code",
   "execution_count": 70,
   "metadata": {},
   "outputs": [
    {
     "data": {
      "text/plain": [
       "['usually',\n",
       " 'first',\n",
       " 'thing',\n",
       " 'say',\n",
       " 'walk',\n",
       " 'monday',\n",
       " 'god',\n",
       " 'damn',\n",
       " 'hate',\n",
       " 'place']"
      ]
     },
     "execution_count": 70,
     "metadata": {},
     "output_type": "execute_result"
    }
   ],
   "source": [
    "dictionary[:10]"
   ]
  },
  {
   "cell_type": "code",
   "execution_count": 71,
   "metadata": {},
   "outputs": [
    {
     "data": {
      "text/plain": [
       "6049"
      ]
     },
     "execution_count": 71,
     "metadata": {},
     "output_type": "execute_result"
    }
   ],
   "source": [
    "len(dictionary)"
   ]
  },
  {
   "cell_type": "code",
   "execution_count": 72,
   "metadata": {},
   "outputs": [],
   "source": [
    "import numpy as np\n",
    "word_embedding = np.zeros([len(lemmatized_words),len(dictionary)])"
   ]
  },
  {
   "cell_type": "code",
   "execution_count": 73,
   "metadata": {},
   "outputs": [],
   "source": [
    "for i,x in enumerate(lemmatized_words):\n",
    "    for j,y in enumerate(dictionary):\n",
    "        word_embedding[i,j] = sum([z == y for z in x])"
   ]
  },
  {
   "cell_type": "code",
   "execution_count": 74,
   "metadata": {},
   "outputs": [
    {
     "data": {
      "text/plain": [
       "array([[1., 1., 1., ..., 0., 0., 0.],\n",
       "       [0., 0., 0., ..., 0., 0., 0.],\n",
       "       [0., 0., 0., ..., 0., 0., 0.],\n",
       "       ...,\n",
       "       [0., 0., 1., ..., 0., 0., 0.],\n",
       "       [0., 0., 0., ..., 0., 0., 0.],\n",
       "       [0., 1., 1., ..., 0., 0., 0.]])"
      ]
     },
     "execution_count": 74,
     "metadata": {},
     "output_type": "execute_result"
    }
   ],
   "source": [
    "word_embedding"
   ]
  },
  {
   "cell_type": "code",
   "execution_count": 76,
   "metadata": {},
   "outputs": [],
   "source": [
    "df = pd.concat([bar, pd.DataFrame(word_embedding, columns=dictionary)], axis=1)"
   ]
  },
  {
   "cell_type": "code",
   "execution_count": 82,
   "metadata": {
    "scrolled": true
   },
   "outputs": [
    {
     "data": {
      "text/html": [
       "<div>\n",
       "<style scoped>\n",
       "    .dataframe tbody tr th:only-of-type {\n",
       "        vertical-align: middle;\n",
       "    }\n",
       "\n",
       "    .dataframe tbody tr th {\n",
       "        vertical-align: top;\n",
       "    }\n",
       "\n",
       "    .dataframe thead th {\n",
       "        text-align: right;\n",
       "    }\n",
       "</style>\n",
       "<table border=\"1\" class=\"dataframe\">\n",
       "  <thead>\n",
       "    <tr style=\"text-align: right;\">\n",
       "      <th></th>\n",
       "      <th>stars_x</th>\n",
       "      <th>useful</th>\n",
       "      <th>text</th>\n",
       "      <th>name</th>\n",
       "      <th>address</th>\n",
       "      <th>city</th>\n",
       "      <th>state</th>\n",
       "      <th>postal_code</th>\n",
       "      <th>stars_y</th>\n",
       "      <th>attributes</th>\n",
       "      <th>...</th>\n",
       "      <th>ivory</th>\n",
       "      <th>bonefish</th>\n",
       "      <th>steenbocks</th>\n",
       "      <th>papaya</th>\n",
       "      <th>runnelstone</th>\n",
       "      <th>throb</th>\n",
       "      <th>ddd</th>\n",
       "      <th>duritos</th>\n",
       "      <th>perlou</th>\n",
       "      <th>casetta</th>\n",
       "    </tr>\n",
       "  </thead>\n",
       "  <tbody>\n",
       "    <tr>\n",
       "      <th>0</th>\n",
       "      <td>1</td>\n",
       "      <td>0</td>\n",
       "      <td>Usually the first thing I say when I walk into...</td>\n",
       "      <td>Mondays</td>\n",
       "      <td>523 State St</td>\n",
       "      <td>Madison</td>\n",
       "      <td>WI</td>\n",
       "      <td>53703.0</td>\n",
       "      <td>2.5</td>\n",
       "      <td>{'BusinessAcceptsCreditCards': 'True', 'Restau...</td>\n",
       "      <td>...</td>\n",
       "      <td>0.0</td>\n",
       "      <td>0.0</td>\n",
       "      <td>0.0</td>\n",
       "      <td>0.0</td>\n",
       "      <td>0.0</td>\n",
       "      <td>0.0</td>\n",
       "      <td>0.0</td>\n",
       "      <td>0.0</td>\n",
       "      <td>0.0</td>\n",
       "      <td>0.0</td>\n",
       "    </tr>\n",
       "    <tr>\n",
       "      <th>1</th>\n",
       "      <td>5</td>\n",
       "      <td>1</td>\n",
       "      <td>My sister and I have visited Gib's twice and b...</td>\n",
       "      <td>Gib's Bar</td>\n",
       "      <td>1380 Williamson St</td>\n",
       "      <td>Madison</td>\n",
       "      <td>WI</td>\n",
       "      <td>53703.0</td>\n",
       "      <td>4.0</td>\n",
       "      <td>{'Alcohol': \"'full_bar'\", 'GoodForDancing': 'F...</td>\n",
       "      <td>...</td>\n",
       "      <td>0.0</td>\n",
       "      <td>0.0</td>\n",
       "      <td>0.0</td>\n",
       "      <td>0.0</td>\n",
       "      <td>0.0</td>\n",
       "      <td>0.0</td>\n",
       "      <td>0.0</td>\n",
       "      <td>0.0</td>\n",
       "      <td>0.0</td>\n",
       "      <td>0.0</td>\n",
       "    </tr>\n",
       "    <tr>\n",
       "      <th>2</th>\n",
       "      <td>5</td>\n",
       "      <td>3</td>\n",
       "      <td>The food and vibe here is outstanding. It's de...</td>\n",
       "      <td>Lucille</td>\n",
       "      <td>101 King St</td>\n",
       "      <td>Madison</td>\n",
       "      <td>WI</td>\n",
       "      <td>53703.0</td>\n",
       "      <td>4.0</td>\n",
       "      <td>{'RestaurantsDelivery': 'True', 'Caters': 'Fal...</td>\n",
       "      <td>...</td>\n",
       "      <td>0.0</td>\n",
       "      <td>0.0</td>\n",
       "      <td>0.0</td>\n",
       "      <td>0.0</td>\n",
       "      <td>0.0</td>\n",
       "      <td>0.0</td>\n",
       "      <td>0.0</td>\n",
       "      <td>0.0</td>\n",
       "      <td>0.0</td>\n",
       "      <td>0.0</td>\n",
       "    </tr>\n",
       "    <tr>\n",
       "      <th>3</th>\n",
       "      <td>4</td>\n",
       "      <td>1</td>\n",
       "      <td>Simplicity at its best. G&amp;B offers a nice touc...</td>\n",
       "      <td>Gates &amp; Brovi</td>\n",
       "      <td>3502 Monroe St</td>\n",
       "      <td>Madison</td>\n",
       "      <td>WI</td>\n",
       "      <td>53711.0</td>\n",
       "      <td>3.5</td>\n",
       "      <td>{'Caters': 'True', 'RestaurantsPriceRange2': '...</td>\n",
       "      <td>...</td>\n",
       "      <td>0.0</td>\n",
       "      <td>0.0</td>\n",
       "      <td>0.0</td>\n",
       "      <td>0.0</td>\n",
       "      <td>0.0</td>\n",
       "      <td>0.0</td>\n",
       "      <td>0.0</td>\n",
       "      <td>0.0</td>\n",
       "      <td>0.0</td>\n",
       "      <td>0.0</td>\n",
       "    </tr>\n",
       "    <tr>\n",
       "      <th>4</th>\n",
       "      <td>5</td>\n",
       "      <td>0</td>\n",
       "      <td>This is my favorite happy hour place in all of...</td>\n",
       "      <td>Tempest Oyster Bar</td>\n",
       "      <td>120 E Wilson St</td>\n",
       "      <td>Madison</td>\n",
       "      <td>WI</td>\n",
       "      <td>53703.0</td>\n",
       "      <td>4.0</td>\n",
       "      <td>{'RestaurantsTakeOut': 'False', 'WiFi': \"u'no'...</td>\n",
       "      <td>...</td>\n",
       "      <td>0.0</td>\n",
       "      <td>0.0</td>\n",
       "      <td>0.0</td>\n",
       "      <td>0.0</td>\n",
       "      <td>0.0</td>\n",
       "      <td>0.0</td>\n",
       "      <td>0.0</td>\n",
       "      <td>0.0</td>\n",
       "      <td>0.0</td>\n",
       "      <td>0.0</td>\n",
       "    </tr>\n",
       "    <tr>\n",
       "      <th>...</th>\n",
       "      <td>...</td>\n",
       "      <td>...</td>\n",
       "      <td>...</td>\n",
       "      <td>...</td>\n",
       "      <td>...</td>\n",
       "      <td>...</td>\n",
       "      <td>...</td>\n",
       "      <td>...</td>\n",
       "      <td>...</td>\n",
       "      <td>...</td>\n",
       "      <td>...</td>\n",
       "      <td>...</td>\n",
       "      <td>...</td>\n",
       "      <td>...</td>\n",
       "      <td>...</td>\n",
       "      <td>...</td>\n",
       "      <td>...</td>\n",
       "      <td>...</td>\n",
       "      <td>...</td>\n",
       "      <td>...</td>\n",
       "      <td>...</td>\n",
       "    </tr>\n",
       "    <tr>\n",
       "      <th>29820</th>\n",
       "      <td>4</td>\n",
       "      <td>1</td>\n",
       "      <td>Neighborhood place small and nothing fancy but...</td>\n",
       "      <td>Village Bar</td>\n",
       "      <td>3801 Mineral Point Rd</td>\n",
       "      <td>Madison</td>\n",
       "      <td>WI</td>\n",
       "      <td>53705.0</td>\n",
       "      <td>4.5</td>\n",
       "      <td>{'RestaurantsAttire': \"u'casual'\", 'Restaurant...</td>\n",
       "      <td>...</td>\n",
       "      <td>0.0</td>\n",
       "      <td>0.0</td>\n",
       "      <td>0.0</td>\n",
       "      <td>0.0</td>\n",
       "      <td>0.0</td>\n",
       "      <td>0.0</td>\n",
       "      <td>0.0</td>\n",
       "      <td>0.0</td>\n",
       "      <td>0.0</td>\n",
       "      <td>0.0</td>\n",
       "    </tr>\n",
       "    <tr>\n",
       "      <th>29821</th>\n",
       "      <td>5</td>\n",
       "      <td>1</td>\n",
       "      <td>Best cocktails ever! Really unique menu and we...</td>\n",
       "      <td>Merchant</td>\n",
       "      <td>121 S Pinckney St</td>\n",
       "      <td>Madison</td>\n",
       "      <td>WI</td>\n",
       "      <td>53703.0</td>\n",
       "      <td>4.0</td>\n",
       "      <td>{'RestaurantsTakeOut': 'True', 'BusinessParkin...</td>\n",
       "      <td>...</td>\n",
       "      <td>0.0</td>\n",
       "      <td>0.0</td>\n",
       "      <td>0.0</td>\n",
       "      <td>0.0</td>\n",
       "      <td>0.0</td>\n",
       "      <td>0.0</td>\n",
       "      <td>0.0</td>\n",
       "      <td>0.0</td>\n",
       "      <td>0.0</td>\n",
       "      <td>0.0</td>\n",
       "    </tr>\n",
       "    <tr>\n",
       "      <th>29822</th>\n",
       "      <td>5</td>\n",
       "      <td>1</td>\n",
       "      <td>The only negative thing I have to say is that ...</td>\n",
       "      <td>Casetta Kitchen and Counter</td>\n",
       "      <td>222 W Washington Ave, Ste 30</td>\n",
       "      <td>Madison</td>\n",
       "      <td>WI</td>\n",
       "      <td>53703.0</td>\n",
       "      <td>4.5</td>\n",
       "      <td>{'RestaurantsTableService': 'False', 'Restaura...</td>\n",
       "      <td>...</td>\n",
       "      <td>0.0</td>\n",
       "      <td>0.0</td>\n",
       "      <td>0.0</td>\n",
       "      <td>0.0</td>\n",
       "      <td>0.0</td>\n",
       "      <td>0.0</td>\n",
       "      <td>0.0</td>\n",
       "      <td>0.0</td>\n",
       "      <td>0.0</td>\n",
       "      <td>0.0</td>\n",
       "    </tr>\n",
       "    <tr>\n",
       "      <th>29823</th>\n",
       "      <td>5</td>\n",
       "      <td>4</td>\n",
       "      <td>I only had a cheese burger and a beer, so hard...</td>\n",
       "      <td>Village Bar</td>\n",
       "      <td>3801 Mineral Point Rd</td>\n",
       "      <td>Madison</td>\n",
       "      <td>WI</td>\n",
       "      <td>53705.0</td>\n",
       "      <td>4.5</td>\n",
       "      <td>{'RestaurantsAttire': \"u'casual'\", 'Restaurant...</td>\n",
       "      <td>...</td>\n",
       "      <td>0.0</td>\n",
       "      <td>0.0</td>\n",
       "      <td>0.0</td>\n",
       "      <td>0.0</td>\n",
       "      <td>0.0</td>\n",
       "      <td>0.0</td>\n",
       "      <td>0.0</td>\n",
       "      <td>0.0</td>\n",
       "      <td>0.0</td>\n",
       "      <td>0.0</td>\n",
       "    </tr>\n",
       "    <tr>\n",
       "      <th>29824</th>\n",
       "      <td>4</td>\n",
       "      <td>3</td>\n",
       "      <td>WARNING: I'm pretty sure there's some witchcra...</td>\n",
       "      <td>Merchant</td>\n",
       "      <td>121 S Pinckney St</td>\n",
       "      <td>Madison</td>\n",
       "      <td>WI</td>\n",
       "      <td>53703.0</td>\n",
       "      <td>4.0</td>\n",
       "      <td>{'RestaurantsTakeOut': 'True', 'BusinessParkin...</td>\n",
       "      <td>...</td>\n",
       "      <td>0.0</td>\n",
       "      <td>0.0</td>\n",
       "      <td>0.0</td>\n",
       "      <td>0.0</td>\n",
       "      <td>0.0</td>\n",
       "      <td>0.0</td>\n",
       "      <td>0.0</td>\n",
       "      <td>0.0</td>\n",
       "      <td>0.0</td>\n",
       "      <td>0.0</td>\n",
       "    </tr>\n",
       "  </tbody>\n",
       "</table>\n",
       "<p>29825 rows × 6060 columns</p>\n",
       "</div>"
      ],
      "text/plain": [
       "       stars_x  useful                                               text  \\\n",
       "0            1       0  Usually the first thing I say when I walk into...   \n",
       "1            5       1  My sister and I have visited Gib's twice and b...   \n",
       "2            5       3  The food and vibe here is outstanding. It's de...   \n",
       "3            4       1  Simplicity at its best. G&B offers a nice touc...   \n",
       "4            5       0  This is my favorite happy hour place in all of...   \n",
       "...        ...     ...                                                ...   \n",
       "29820        4       1  Neighborhood place small and nothing fancy but...   \n",
       "29821        5       1  Best cocktails ever! Really unique menu and we...   \n",
       "29822        5       1  The only negative thing I have to say is that ...   \n",
       "29823        5       4  I only had a cheese burger and a beer, so hard...   \n",
       "29824        4       3  WARNING: I'm pretty sure there's some witchcra...   \n",
       "\n",
       "                              name                       address     city  \\\n",
       "0                          Mondays                  523 State St  Madison   \n",
       "1                        Gib's Bar            1380 Williamson St  Madison   \n",
       "2                          Lucille                   101 King St  Madison   \n",
       "3                    Gates & Brovi                3502 Monroe St  Madison   \n",
       "4               Tempest Oyster Bar               120 E Wilson St  Madison   \n",
       "...                            ...                           ...      ...   \n",
       "29820                  Village Bar         3801 Mineral Point Rd  Madison   \n",
       "29821                     Merchant             121 S Pinckney St  Madison   \n",
       "29822  Casetta Kitchen and Counter  222 W Washington Ave, Ste 30  Madison   \n",
       "29823                  Village Bar         3801 Mineral Point Rd  Madison   \n",
       "29824                     Merchant             121 S Pinckney St  Madison   \n",
       "\n",
       "      state  postal_code  stars_y  \\\n",
       "0        WI      53703.0      2.5   \n",
       "1        WI      53703.0      4.0   \n",
       "2        WI      53703.0      4.0   \n",
       "3        WI      53711.0      3.5   \n",
       "4        WI      53703.0      4.0   \n",
       "...     ...          ...      ...   \n",
       "29820    WI      53705.0      4.5   \n",
       "29821    WI      53703.0      4.0   \n",
       "29822    WI      53703.0      4.5   \n",
       "29823    WI      53705.0      4.5   \n",
       "29824    WI      53703.0      4.0   \n",
       "\n",
       "                                              attributes  ... ivory  bonefish  \\\n",
       "0      {'BusinessAcceptsCreditCards': 'True', 'Restau...  ...   0.0       0.0   \n",
       "1      {'Alcohol': \"'full_bar'\", 'GoodForDancing': 'F...  ...   0.0       0.0   \n",
       "2      {'RestaurantsDelivery': 'True', 'Caters': 'Fal...  ...   0.0       0.0   \n",
       "3      {'Caters': 'True', 'RestaurantsPriceRange2': '...  ...   0.0       0.0   \n",
       "4      {'RestaurantsTakeOut': 'False', 'WiFi': \"u'no'...  ...   0.0       0.0   \n",
       "...                                                  ...  ...   ...       ...   \n",
       "29820  {'RestaurantsAttire': \"u'casual'\", 'Restaurant...  ...   0.0       0.0   \n",
       "29821  {'RestaurantsTakeOut': 'True', 'BusinessParkin...  ...   0.0       0.0   \n",
       "29822  {'RestaurantsTableService': 'False', 'Restaura...  ...   0.0       0.0   \n",
       "29823  {'RestaurantsAttire': \"u'casual'\", 'Restaurant...  ...   0.0       0.0   \n",
       "29824  {'RestaurantsTakeOut': 'True', 'BusinessParkin...  ...   0.0       0.0   \n",
       "\n",
       "       steenbocks  papaya  runnelstone  throb  ddd  duritos  perlou  casetta  \n",
       "0             0.0     0.0          0.0    0.0  0.0      0.0     0.0      0.0  \n",
       "1             0.0     0.0          0.0    0.0  0.0      0.0     0.0      0.0  \n",
       "2             0.0     0.0          0.0    0.0  0.0      0.0     0.0      0.0  \n",
       "3             0.0     0.0          0.0    0.0  0.0      0.0     0.0      0.0  \n",
       "4             0.0     0.0          0.0    0.0  0.0      0.0     0.0      0.0  \n",
       "...           ...     ...          ...    ...  ...      ...     ...      ...  \n",
       "29820         0.0     0.0          0.0    0.0  0.0      0.0     0.0      0.0  \n",
       "29821         0.0     0.0          0.0    0.0  0.0      0.0     0.0      0.0  \n",
       "29822         0.0     0.0          0.0    0.0  0.0      0.0     0.0      0.0  \n",
       "29823         0.0     0.0          0.0    0.0  0.0      0.0     0.0      0.0  \n",
       "29824         0.0     0.0          0.0    0.0  0.0      0.0     0.0      0.0  \n",
       "\n",
       "[29825 rows x 6060 columns]"
      ]
     },
     "execution_count": 82,
     "metadata": {},
     "output_type": "execute_result"
    }
   ],
   "source": [
    "df"
   ]
  },
  {
   "cell_type": "code",
   "execution_count": null,
   "metadata": {},
   "outputs": [],
   "source": [
    "#write a new csv"
   ]
  },
  {
   "cell_type": "code",
   "execution_count": 83,
   "metadata": {},
   "outputs": [],
   "source": [
    "df.to_csv (r'C:\\Users\\thton\\python所有练习\\STAT_628_Module_3\\bar_arrow.csv', index=False)"
   ]
  }
 ],
 "metadata": {
  "kernelspec": {
   "display_name": "Python 3",
   "language": "python",
   "name": "python3"
  },
  "language_info": {
   "codemirror_mode": {
    "name": "ipython",
    "version": 3
   },
   "file_extension": ".py",
   "mimetype": "text/x-python",
   "name": "python",
   "nbconvert_exporter": "python",
   "pygments_lexer": "ipython3",
   "version": "3.8.5"
  }
 },
 "nbformat": 4,
 "nbformat_minor": 4
}
