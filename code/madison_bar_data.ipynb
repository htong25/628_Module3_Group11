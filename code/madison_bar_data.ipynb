{
 "cells": [
  {
   "cell_type": "code",
   "execution_count": 2,
   "metadata": {},
   "outputs": [],
   "source": [
    "import pandas as pd \n",
    "df = pd.read_csv('~/Desktop/STAT-628/module3/Data/df.csv')\n"
   ]
  },
  {
   "cell_type": "code",
   "execution_count": 3,
   "metadata": {},
   "outputs": [
    {
     "output_type": "execute_result",
     "data": {
      "text/plain": "   stars_x  ...                                         categories\n0        5  ...  Restaurants, Gastropubs, Nightlife, American (...\n1        5  ...  Airport Shuttles, Transportation, Taxis, Hotel...\n2        4  ...  Restaurants, Indian, Vegetarian, Vegan, Gluten...\n3        3  ...  Mediterranean, Hotels, Beer, Wine & Spirits, B...\n4        4  ...  Fast Food, Greek, Breakfast & Brunch, Restaura...\n\n[5 rows x 11 columns]",
      "text/html": "<div>\n<style scoped>\n    .dataframe tbody tr th:only-of-type {\n        vertical-align: middle;\n    }\n\n    .dataframe tbody tr th {\n        vertical-align: top;\n    }\n\n    .dataframe thead th {\n        text-align: right;\n    }\n</style>\n<table border=\"1\" class=\"dataframe\">\n  <thead>\n    <tr style=\"text-align: right;\">\n      <th></th>\n      <th>stars_x</th>\n      <th>useful</th>\n      <th>text</th>\n      <th>name</th>\n      <th>address</th>\n      <th>city</th>\n      <th>state</th>\n      <th>postal_code</th>\n      <th>stars_y</th>\n      <th>attributes</th>\n      <th>categories</th>\n    </tr>\n  </thead>\n  <tbody>\n    <tr>\n      <th>0</th>\n      <td>5</td>\n      <td>1</td>\n      <td>I love Deagan's. I do. I really do. The atmosp...</td>\n      <td>Deagan's Kitchen &amp; Bar</td>\n      <td>14810 Detroit Ave</td>\n      <td>Lakewood</td>\n      <td>OH</td>\n      <td>44107</td>\n      <td>4.0</td>\n      <td>{'BusinessAcceptsCreditCards': 'True', 'Outdoo...</td>\n      <td>Restaurants, Gastropubs, Nightlife, American (...</td>\n    </tr>\n    <tr>\n      <th>1</th>\n      <td>5</td>\n      <td>1</td>\n      <td>Called for a 5:15 morning reservation. The dri...</td>\n      <td>Black Cab &amp; Limo</td>\n      <td>NaN</td>\n      <td>Champaign</td>\n      <td>IL</td>\n      <td>NaN</td>\n      <td>4.5</td>\n      <td>{'WiFi': \"u'free'\"}</td>\n      <td>Airport Shuttles, Transportation, Taxis, Hotel...</td>\n    </tr>\n    <tr>\n      <th>2</th>\n      <td>4</td>\n      <td>3</td>\n      <td>A close friend was in town and so instead of t...</td>\n      <td>Choolaah Indian BBQ</td>\n      <td>6114 Centre Ave</td>\n      <td>Pittsburgh</td>\n      <td>PA</td>\n      <td>15206</td>\n      <td>4.0</td>\n      <td>{'RestaurantsTableService': 'False', 'Restaura...</td>\n      <td>Restaurants, Indian, Vegetarian, Vegan, Gluten...</td>\n    </tr>\n    <tr>\n      <th>3</th>\n      <td>3</td>\n      <td>0</td>\n      <td>The service is attentive. The decor attractive...</td>\n      <td>Adega</td>\n      <td>2017 E 9th St</td>\n      <td>Cleveland</td>\n      <td>OH</td>\n      <td>44115</td>\n      <td>4.0</td>\n      <td>{'BusinessAcceptsCreditCards': 'True', 'Restau...</td>\n      <td>Mediterranean, Hotels, Beer, Wine &amp; Spirits, B...</td>\n    </tr>\n    <tr>\n      <th>4</th>\n      <td>4</td>\n      <td>0</td>\n      <td>The ingredients are always fresh and I like th...</td>\n      <td>Pita Pit</td>\n      <td>2763 East Carson St</td>\n      <td>Pittsburgh</td>\n      <td>PA</td>\n      <td>15203</td>\n      <td>3.5</td>\n      <td>{'RestaurantsPriceRange2': '1', 'RestaurantsAt...</td>\n      <td>Fast Food, Greek, Breakfast &amp; Brunch, Restaura...</td>\n    </tr>\n  </tbody>\n</table>\n</div>"
     },
     "metadata": {},
     "execution_count": 3
    }
   ],
   "source": [
    "df.head()"
   ]
  },
  {
   "cell_type": "code",
   "execution_count": 5,
   "metadata": {},
   "outputs": [],
   "source": [
    "madison = df.loc[df[\"city\"].str.contains('Madison',case=False, na=False)]\n",
    "bar=madison.loc[madison[\"categories\"].str.contains('bar',case=False, na=False)]\n",
    "night_bar = bar.loc[bar[\"categories\"].str.contains('night',case=False, na=False)]\n",
    "#night_bar.to_csv(r'~/Desktop/STAT-628/module3/Data/bar.csv', index = False)"
   ]
  },
  {
   "cell_type": "code",
   "execution_count": 6,
   "metadata": {},
   "outputs": [
    {
     "output_type": "execute_result",
     "data": {
      "text/plain": "     stars_x  ...                                         categories\n55         1  ...                         Bars, Dive Bars, Nightlife\n139        5  ...                     Bars, Cocktail Bars, Nightlife\n191        5  ...  Nightlife, Bars, Burgers, American (New), Pizz...\n192        4  ...  Bars, Sports Bars, Nightlife, Sandwiches, Rest...\n219        5  ...  Steakhouses, Restaurants, Bars, Seafood, Night...\n\n[5 rows x 11 columns]",
      "text/html": "<div>\n<style scoped>\n    .dataframe tbody tr th:only-of-type {\n        vertical-align: middle;\n    }\n\n    .dataframe tbody tr th {\n        vertical-align: top;\n    }\n\n    .dataframe thead th {\n        text-align: right;\n    }\n</style>\n<table border=\"1\" class=\"dataframe\">\n  <thead>\n    <tr style=\"text-align: right;\">\n      <th></th>\n      <th>stars_x</th>\n      <th>useful</th>\n      <th>text</th>\n      <th>name</th>\n      <th>address</th>\n      <th>city</th>\n      <th>state</th>\n      <th>postal_code</th>\n      <th>stars_y</th>\n      <th>attributes</th>\n      <th>categories</th>\n    </tr>\n  </thead>\n  <tbody>\n    <tr>\n      <th>55</th>\n      <td>1</td>\n      <td>0</td>\n      <td>Usually the first thing I say when I walk into...</td>\n      <td>Mondays</td>\n      <td>523 State St</td>\n      <td>Madison</td>\n      <td>WI</td>\n      <td>53703</td>\n      <td>2.5</td>\n      <td>{'BusinessAcceptsCreditCards': 'True', 'Restau...</td>\n      <td>Bars, Dive Bars, Nightlife</td>\n    </tr>\n    <tr>\n      <th>139</th>\n      <td>5</td>\n      <td>1</td>\n      <td>My sister and I have visited Gib's twice and b...</td>\n      <td>Gib's Bar</td>\n      <td>1380 Williamson St</td>\n      <td>Madison</td>\n      <td>WI</td>\n      <td>53703</td>\n      <td>4.0</td>\n      <td>{'Alcohol': \"'full_bar'\", 'GoodForDancing': 'F...</td>\n      <td>Bars, Cocktail Bars, Nightlife</td>\n    </tr>\n    <tr>\n      <th>191</th>\n      <td>5</td>\n      <td>3</td>\n      <td>The food and vibe here is outstanding. It's de...</td>\n      <td>Lucille</td>\n      <td>101 King St</td>\n      <td>Madison</td>\n      <td>WI</td>\n      <td>53703</td>\n      <td>4.0</td>\n      <td>{'RestaurantsDelivery': 'True', 'Caters': 'Fal...</td>\n      <td>Nightlife, Bars, Burgers, American (New), Pizz...</td>\n    </tr>\n    <tr>\n      <th>192</th>\n      <td>4</td>\n      <td>1</td>\n      <td>Simplicity at its best. G&amp;B offers a nice touc...</td>\n      <td>Gates &amp; Brovi</td>\n      <td>3502 Monroe St</td>\n      <td>Madison</td>\n      <td>WI</td>\n      <td>53711</td>\n      <td>3.5</td>\n      <td>{'Caters': 'True', 'RestaurantsPriceRange2': '...</td>\n      <td>Bars, Sports Bars, Nightlife, Sandwiches, Rest...</td>\n    </tr>\n    <tr>\n      <th>219</th>\n      <td>5</td>\n      <td>0</td>\n      <td>This is my favorite happy hour place in all of...</td>\n      <td>Tempest Oyster Bar</td>\n      <td>120 E Wilson St</td>\n      <td>Madison</td>\n      <td>WI</td>\n      <td>53703</td>\n      <td>4.0</td>\n      <td>{'RestaurantsTakeOut': 'False', 'WiFi': \"u'no'...</td>\n      <td>Steakhouses, Restaurants, Bars, Seafood, Night...</td>\n    </tr>\n  </tbody>\n</table>\n</div>"
     },
     "metadata": {},
     "execution_count": 6
    }
   ],
   "source": [
    "night_bar.head()"
   ]
  },
  {
   "cell_type": "code",
   "execution_count": null,
   "metadata": {},
   "outputs": [],
   "source": []
  }
 ],
 "metadata": {
  "language_info": {
   "codemirror_mode": {
    "name": "ipython",
    "version": 3
   },
   "file_extension": ".py",
   "mimetype": "text/x-python",
   "name": "python",
   "nbconvert_exporter": "python",
   "pygments_lexer": "ipython3",
   "version": "3.7.6-final"
  },
  "orig_nbformat": 2,
  "kernelspec": {
   "name": "python3",
   "display_name": "Python 3"
  }
 },
 "nbformat": 4,
 "nbformat_minor": 2
}